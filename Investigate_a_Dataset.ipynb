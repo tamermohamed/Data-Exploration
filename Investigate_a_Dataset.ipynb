{
 "cells": [
  {
   "cell_type": "markdown",
   "metadata": {},
   "source": [
    "# Project: Investigate a Dataset - noshowappointments\n",
    "\n",
    "## Table of Contents\n",
    "<ul>\n",
    "<li><a href=\"#intro\">Introduction</a></li>\n",
    "<li><a href=\"#wrangling\">Data Wrangling</a></li>\n",
    "<li><a href=\"#eda\">Exploratory Data Analysis</a></li>\n",
    "<li><a href=\"#conclusions\">Conclusions</a></li>\n",
    "</ul>"
   ]
  },
  {
   "cell_type": "markdown",
   "metadata": {},
   "source": [
    "<a id='intro'></a>\n",
    "## Introduction\n",
    "\n",
    "### Dataset Description \n",
    "\n",
    "> this a data set of medical appointments in Brazil, our main goal is exploring this dataset to know why patients didn't show up in their appointments, the data set contains the following columns:\n",
    "> <ul>\n",
    "> <li>PatientId : unique identifier for the patient</li>\n",
    "> <li>AppointmentID : unique identifier for the appointment</li>\n",
    "> <li>Gender : Gender of the patient</li>\n",
    "> <li>ScheduledDay: the day secheduled for appointment</li>\n",
    "> <li>AppointmentDay: the actual day the patient shown up in it</li>\n",
    "> <li>Age : Age of the patient</li>\n",
    "> <li>Neighbourhood : the place of the appointment</li>\n",
    "> <li>Scholarship : is the patient registered in a wellfair program or not</li>\n",
    "> <li>Hipertension : is the patient has Hipertension</li>\n",
    "> <li>Diabetes : is the patient has Diabetes</li>\n",
    "> <li>Alcoholism : is the patient has Alcoholism</li>\n",
    "> <li>Handcap : is the patient Handcap</li>\n",
    "> <li>SMS_received : is the paient receive sms for the appointment</li>\n",
    "> <li>No-show : is the patient show up in his appointment (no for show up - yes for not show)</li>\n",
    "> </ul>  \n",
    "\n",
    "\n",
    "### Question(s) for Analysis\n",
    "The main goal of this analysis is to answer the question why patients didn't show up in their appointments, what is the factors that prevent them form showing up in order to be able to predict their behaviuor in the future depeing on these features"
   ]
  },
  {
   "cell_type": "code",
   "execution_count": 267,
   "metadata": {},
   "outputs": [],
   "source": [
    "#import required libraries\n",
    "import pandas as pd\n",
    "import numpy as np\n",
    "import matplotlib.pyplot as plt\n",
    "\n",
    "%matplotlib inline"
   ]
  },
  {
   "cell_type": "markdown",
   "metadata": {},
   "source": [
    "<a id='wrangling'></a>\n",
    "## Data Wrangling\n",
    "\n",
    "### General Properties"
   ]
  },
  {
   "cell_type": "code",
   "execution_count": 268,
   "metadata": {
    "collapsed": true
   },
   "outputs": [],
   "source": [
    "# Load the dataset\n",
    "df = pd.read_csv('noshowappointments-kagglev2-may-2016.csv')"
   ]
  },
  {
   "cell_type": "code",
   "execution_count": 269,
   "metadata": {},
   "outputs": [
    {
     "data": {
      "text/html": [
       "<div>\n",
       "<style scoped>\n",
       "    .dataframe tbody tr th:only-of-type {\n",
       "        vertical-align: middle;\n",
       "    }\n",
       "\n",
       "    .dataframe tbody tr th {\n",
       "        vertical-align: top;\n",
       "    }\n",
       "\n",
       "    .dataframe thead th {\n",
       "        text-align: right;\n",
       "    }\n",
       "</style>\n",
       "<table border=\"1\" class=\"dataframe\">\n",
       "  <thead>\n",
       "    <tr style=\"text-align: right;\">\n",
       "      <th></th>\n",
       "      <th>PatientId</th>\n",
       "      <th>AppointmentID</th>\n",
       "      <th>Gender</th>\n",
       "      <th>ScheduledDay</th>\n",
       "      <th>AppointmentDay</th>\n",
       "      <th>Age</th>\n",
       "      <th>Neighbourhood</th>\n",
       "      <th>Scholarship</th>\n",
       "      <th>Hipertension</th>\n",
       "      <th>Diabetes</th>\n",
       "      <th>Alcoholism</th>\n",
       "      <th>Handcap</th>\n",
       "      <th>SMS_received</th>\n",
       "      <th>No-show</th>\n",
       "    </tr>\n",
       "  </thead>\n",
       "  <tbody>\n",
       "    <tr>\n",
       "      <th>0</th>\n",
       "      <td>2.987250e+13</td>\n",
       "      <td>5642903</td>\n",
       "      <td>F</td>\n",
       "      <td>2016-04-29T18:38:08Z</td>\n",
       "      <td>2016-04-29T00:00:00Z</td>\n",
       "      <td>62</td>\n",
       "      <td>JARDIM DA PENHA</td>\n",
       "      <td>0</td>\n",
       "      <td>1</td>\n",
       "      <td>0</td>\n",
       "      <td>0</td>\n",
       "      <td>0</td>\n",
       "      <td>0</td>\n",
       "      <td>No</td>\n",
       "    </tr>\n",
       "    <tr>\n",
       "      <th>1</th>\n",
       "      <td>5.589978e+14</td>\n",
       "      <td>5642503</td>\n",
       "      <td>M</td>\n",
       "      <td>2016-04-29T16:08:27Z</td>\n",
       "      <td>2016-04-29T00:00:00Z</td>\n",
       "      <td>56</td>\n",
       "      <td>JARDIM DA PENHA</td>\n",
       "      <td>0</td>\n",
       "      <td>0</td>\n",
       "      <td>0</td>\n",
       "      <td>0</td>\n",
       "      <td>0</td>\n",
       "      <td>0</td>\n",
       "      <td>No</td>\n",
       "    </tr>\n",
       "    <tr>\n",
       "      <th>2</th>\n",
       "      <td>4.262962e+12</td>\n",
       "      <td>5642549</td>\n",
       "      <td>F</td>\n",
       "      <td>2016-04-29T16:19:04Z</td>\n",
       "      <td>2016-04-29T00:00:00Z</td>\n",
       "      <td>62</td>\n",
       "      <td>MATA DA PRAIA</td>\n",
       "      <td>0</td>\n",
       "      <td>0</td>\n",
       "      <td>0</td>\n",
       "      <td>0</td>\n",
       "      <td>0</td>\n",
       "      <td>0</td>\n",
       "      <td>No</td>\n",
       "    </tr>\n",
       "    <tr>\n",
       "      <th>3</th>\n",
       "      <td>8.679512e+11</td>\n",
       "      <td>5642828</td>\n",
       "      <td>F</td>\n",
       "      <td>2016-04-29T17:29:31Z</td>\n",
       "      <td>2016-04-29T00:00:00Z</td>\n",
       "      <td>8</td>\n",
       "      <td>PONTAL DE CAMBURI</td>\n",
       "      <td>0</td>\n",
       "      <td>0</td>\n",
       "      <td>0</td>\n",
       "      <td>0</td>\n",
       "      <td>0</td>\n",
       "      <td>0</td>\n",
       "      <td>No</td>\n",
       "    </tr>\n",
       "    <tr>\n",
       "      <th>4</th>\n",
       "      <td>8.841186e+12</td>\n",
       "      <td>5642494</td>\n",
       "      <td>F</td>\n",
       "      <td>2016-04-29T16:07:23Z</td>\n",
       "      <td>2016-04-29T00:00:00Z</td>\n",
       "      <td>56</td>\n",
       "      <td>JARDIM DA PENHA</td>\n",
       "      <td>0</td>\n",
       "      <td>1</td>\n",
       "      <td>1</td>\n",
       "      <td>0</td>\n",
       "      <td>0</td>\n",
       "      <td>0</td>\n",
       "      <td>No</td>\n",
       "    </tr>\n",
       "  </tbody>\n",
       "</table>\n",
       "</div>"
      ],
      "text/plain": [
       "      PatientId  AppointmentID Gender          ScheduledDay  \\\n",
       "0  2.987250e+13        5642903      F  2016-04-29T18:38:08Z   \n",
       "1  5.589978e+14        5642503      M  2016-04-29T16:08:27Z   \n",
       "2  4.262962e+12        5642549      F  2016-04-29T16:19:04Z   \n",
       "3  8.679512e+11        5642828      F  2016-04-29T17:29:31Z   \n",
       "4  8.841186e+12        5642494      F  2016-04-29T16:07:23Z   \n",
       "\n",
       "         AppointmentDay  Age      Neighbourhood  Scholarship  Hipertension  \\\n",
       "0  2016-04-29T00:00:00Z   62    JARDIM DA PENHA            0             1   \n",
       "1  2016-04-29T00:00:00Z   56    JARDIM DA PENHA            0             0   \n",
       "2  2016-04-29T00:00:00Z   62      MATA DA PRAIA            0             0   \n",
       "3  2016-04-29T00:00:00Z    8  PONTAL DE CAMBURI            0             0   \n",
       "4  2016-04-29T00:00:00Z   56    JARDIM DA PENHA            0             1   \n",
       "\n",
       "   Diabetes  Alcoholism  Handcap  SMS_received No-show  \n",
       "0         0           0        0             0      No  \n",
       "1         0           0        0             0      No  \n",
       "2         0           0        0             0      No  \n",
       "3         0           0        0             0      No  \n",
       "4         1           0        0             0      No  "
      ]
     },
     "execution_count": 269,
     "metadata": {},
     "output_type": "execute_result"
    }
   ],
   "source": [
    "# having a look at sample the dataset\n",
    "df.head()"
   ]
  },
  {
   "cell_type": "code",
   "execution_count": 270,
   "metadata": {},
   "outputs": [
    {
     "name": "stdout",
     "output_type": "stream",
     "text": [
      "<class 'pandas.core.frame.DataFrame'>\n",
      "RangeIndex: 110527 entries, 0 to 110526\n",
      "Data columns (total 14 columns):\n",
      " #   Column          Non-Null Count   Dtype  \n",
      "---  ------          --------------   -----  \n",
      " 0   PatientId       110527 non-null  float64\n",
      " 1   AppointmentID   110527 non-null  int64  \n",
      " 2   Gender          110527 non-null  object \n",
      " 3   ScheduledDay    110527 non-null  object \n",
      " 4   AppointmentDay  110527 non-null  object \n",
      " 5   Age             110527 non-null  int64  \n",
      " 6   Neighbourhood   110527 non-null  object \n",
      " 7   Scholarship     110527 non-null  int64  \n",
      " 8   Hipertension    110527 non-null  int64  \n",
      " 9   Diabetes        110527 non-null  int64  \n",
      " 10  Alcoholism      110527 non-null  int64  \n",
      " 11  Handcap         110527 non-null  int64  \n",
      " 12  SMS_received    110527 non-null  int64  \n",
      " 13  No-show         110527 non-null  object \n",
      "dtypes: float64(1), int64(8), object(5)\n",
      "memory usage: 11.8+ MB\n"
     ]
    }
   ],
   "source": [
    "# chek datatypes and missing values\n",
    "df.info()\n",
    "# Dataset does not have missing values\n",
    "# ScheduledDay, AppointmentDay is of type object and should be datetime\n",
    "# No-show is of type object we can convert to bool\n",
    "# PatientId is float and it's better to be integer"
   ]
  },
  {
   "cell_type": "code",
   "execution_count": 271,
   "metadata": {},
   "outputs": [
    {
     "data": {
      "text/html": [
       "<div>\n",
       "<style scoped>\n",
       "    .dataframe tbody tr th:only-of-type {\n",
       "        vertical-align: middle;\n",
       "    }\n",
       "\n",
       "    .dataframe tbody tr th {\n",
       "        vertical-align: top;\n",
       "    }\n",
       "\n",
       "    .dataframe thead th {\n",
       "        text-align: right;\n",
       "    }\n",
       "</style>\n",
       "<table border=\"1\" class=\"dataframe\">\n",
       "  <thead>\n",
       "    <tr style=\"text-align: right;\">\n",
       "      <th></th>\n",
       "      <th>PatientId</th>\n",
       "      <th>AppointmentID</th>\n",
       "      <th>Age</th>\n",
       "      <th>Scholarship</th>\n",
       "      <th>Hipertension</th>\n",
       "      <th>Diabetes</th>\n",
       "      <th>Alcoholism</th>\n",
       "      <th>Handcap</th>\n",
       "      <th>SMS_received</th>\n",
       "    </tr>\n",
       "  </thead>\n",
       "  <tbody>\n",
       "    <tr>\n",
       "      <th>count</th>\n",
       "      <td>1.105270e+05</td>\n",
       "      <td>1.105270e+05</td>\n",
       "      <td>110527.000000</td>\n",
       "      <td>110527.000000</td>\n",
       "      <td>110527.000000</td>\n",
       "      <td>110527.000000</td>\n",
       "      <td>110527.000000</td>\n",
       "      <td>110527.000000</td>\n",
       "      <td>110527.000000</td>\n",
       "    </tr>\n",
       "    <tr>\n",
       "      <th>mean</th>\n",
       "      <td>1.474963e+14</td>\n",
       "      <td>5.675305e+06</td>\n",
       "      <td>37.088874</td>\n",
       "      <td>0.098266</td>\n",
       "      <td>0.197246</td>\n",
       "      <td>0.071865</td>\n",
       "      <td>0.030400</td>\n",
       "      <td>0.022248</td>\n",
       "      <td>0.321026</td>\n",
       "    </tr>\n",
       "    <tr>\n",
       "      <th>std</th>\n",
       "      <td>2.560949e+14</td>\n",
       "      <td>7.129575e+04</td>\n",
       "      <td>23.110205</td>\n",
       "      <td>0.297675</td>\n",
       "      <td>0.397921</td>\n",
       "      <td>0.258265</td>\n",
       "      <td>0.171686</td>\n",
       "      <td>0.161543</td>\n",
       "      <td>0.466873</td>\n",
       "    </tr>\n",
       "    <tr>\n",
       "      <th>min</th>\n",
       "      <td>3.921784e+04</td>\n",
       "      <td>5.030230e+06</td>\n",
       "      <td>-1.000000</td>\n",
       "      <td>0.000000</td>\n",
       "      <td>0.000000</td>\n",
       "      <td>0.000000</td>\n",
       "      <td>0.000000</td>\n",
       "      <td>0.000000</td>\n",
       "      <td>0.000000</td>\n",
       "    </tr>\n",
       "    <tr>\n",
       "      <th>25%</th>\n",
       "      <td>4.172614e+12</td>\n",
       "      <td>5.640286e+06</td>\n",
       "      <td>18.000000</td>\n",
       "      <td>0.000000</td>\n",
       "      <td>0.000000</td>\n",
       "      <td>0.000000</td>\n",
       "      <td>0.000000</td>\n",
       "      <td>0.000000</td>\n",
       "      <td>0.000000</td>\n",
       "    </tr>\n",
       "    <tr>\n",
       "      <th>50%</th>\n",
       "      <td>3.173184e+13</td>\n",
       "      <td>5.680573e+06</td>\n",
       "      <td>37.000000</td>\n",
       "      <td>0.000000</td>\n",
       "      <td>0.000000</td>\n",
       "      <td>0.000000</td>\n",
       "      <td>0.000000</td>\n",
       "      <td>0.000000</td>\n",
       "      <td>0.000000</td>\n",
       "    </tr>\n",
       "    <tr>\n",
       "      <th>75%</th>\n",
       "      <td>9.439172e+13</td>\n",
       "      <td>5.725524e+06</td>\n",
       "      <td>55.000000</td>\n",
       "      <td>0.000000</td>\n",
       "      <td>0.000000</td>\n",
       "      <td>0.000000</td>\n",
       "      <td>0.000000</td>\n",
       "      <td>0.000000</td>\n",
       "      <td>1.000000</td>\n",
       "    </tr>\n",
       "    <tr>\n",
       "      <th>max</th>\n",
       "      <td>9.999816e+14</td>\n",
       "      <td>5.790484e+06</td>\n",
       "      <td>115.000000</td>\n",
       "      <td>1.000000</td>\n",
       "      <td>1.000000</td>\n",
       "      <td>1.000000</td>\n",
       "      <td>1.000000</td>\n",
       "      <td>4.000000</td>\n",
       "      <td>1.000000</td>\n",
       "    </tr>\n",
       "  </tbody>\n",
       "</table>\n",
       "</div>"
      ],
      "text/plain": [
       "          PatientId  AppointmentID            Age    Scholarship  \\\n",
       "count  1.105270e+05   1.105270e+05  110527.000000  110527.000000   \n",
       "mean   1.474963e+14   5.675305e+06      37.088874       0.098266   \n",
       "std    2.560949e+14   7.129575e+04      23.110205       0.297675   \n",
       "min    3.921784e+04   5.030230e+06      -1.000000       0.000000   \n",
       "25%    4.172614e+12   5.640286e+06      18.000000       0.000000   \n",
       "50%    3.173184e+13   5.680573e+06      37.000000       0.000000   \n",
       "75%    9.439172e+13   5.725524e+06      55.000000       0.000000   \n",
       "max    9.999816e+14   5.790484e+06     115.000000       1.000000   \n",
       "\n",
       "        Hipertension       Diabetes     Alcoholism        Handcap  \\\n",
       "count  110527.000000  110527.000000  110527.000000  110527.000000   \n",
       "mean        0.197246       0.071865       0.030400       0.022248   \n",
       "std         0.397921       0.258265       0.171686       0.161543   \n",
       "min         0.000000       0.000000       0.000000       0.000000   \n",
       "25%         0.000000       0.000000       0.000000       0.000000   \n",
       "50%         0.000000       0.000000       0.000000       0.000000   \n",
       "75%         0.000000       0.000000       0.000000       0.000000   \n",
       "max         1.000000       1.000000       1.000000       4.000000   \n",
       "\n",
       "        SMS_received  \n",
       "count  110527.000000  \n",
       "mean        0.321026  \n",
       "std         0.466873  \n",
       "min         0.000000  \n",
       "25%         0.000000  \n",
       "50%         0.000000  \n",
       "75%         1.000000  \n",
       "max         1.000000  "
      ]
     },
     "execution_count": 271,
     "metadata": {},
     "output_type": "execute_result"
    }
   ],
   "source": [
    "df.describe()\n",
    "# Age containg negative values which is wrong "
   ]
  },
  {
   "cell_type": "code",
   "execution_count": 272,
   "metadata": {},
   "outputs": [
    {
     "data": {
      "text/plain": [
       "1"
      ]
     },
     "execution_count": 272,
     "metadata": {},
     "output_type": "execute_result"
    }
   ],
   "source": [
    "#check the number of nagative values of the ages\n",
    "negative_age = df['Age'] < 0\n",
    "sum(negative_age)\n",
    "# Age have one wrong value < 0, because Age in years we use the condition <0 not <= 0 , patient may be child in months"
   ]
  },
  {
   "cell_type": "code",
   "execution_count": 273,
   "metadata": {},
   "outputs": [
    {
     "data": {
      "text/plain": [
       "0"
      ]
     },
     "execution_count": 273,
     "metadata": {},
     "output_type": "execute_result"
    }
   ],
   "source": [
    "#check for duplicated rows\n",
    "sum(df.duplicated())\n",
    "# there is no duplicated rows in the dataset"
   ]
  },
  {
   "cell_type": "code",
   "execution_count": 274,
   "metadata": {},
   "outputs": [
    {
     "data": {
      "text/plain": [
       "0"
      ]
     },
     "execution_count": 274,
     "metadata": {},
     "output_type": "execute_result"
    }
   ],
   "source": [
    "# check for duplicated AppointmentID, it should be unique\n",
    "sum(df['AppointmentID'].duplicated())\n",
    "# there is no duplicated AppointmentID"
   ]
  },
  {
   "cell_type": "markdown",
   "metadata": {},
   "source": [
    "\n",
    "### Data Cleaning\n",
    " "
   ]
  },
  {
   "cell_type": "code",
   "execution_count": 275,
   "metadata": {
    "collapsed": true
   },
   "outputs": [],
   "source": [
    "# Drop the negative value of Age, It's one value and will not affect data exploration\n",
    "df.drop(df[negative_age].index,inplace= True)"
   ]
  },
  {
   "cell_type": "code",
   "execution_count": 276,
   "metadata": {},
   "outputs": [],
   "source": [
    "# Convert object columns to the valid type\n",
    "\n",
    "df['ScheduledDay'] = pd.to_datetime(df['ScheduledDay'])\n",
    "\n",
    "df['AppointmentDay'] = pd.to_datetime(df['AppointmentDay'])\n",
    "\n",
    "df['PatientId'] = df['PatientId'].apply(np.int64)"
   ]
  },
  {
   "cell_type": "code",
   "execution_count": 277,
   "metadata": {},
   "outputs": [
    {
     "name": "stdout",
     "output_type": "stream",
     "text": [
      "<class 'pandas.core.frame.DataFrame'>\n",
      "Int64Index: 110526 entries, 0 to 110526\n",
      "Data columns (total 14 columns):\n",
      " #   Column          Non-Null Count   Dtype              \n",
      "---  ------          --------------   -----              \n",
      " 0   PatientId       110526 non-null  int64              \n",
      " 1   AppointmentID   110526 non-null  int64              \n",
      " 2   Gender          110526 non-null  object             \n",
      " 3   ScheduledDay    110526 non-null  datetime64[ns, UTC]\n",
      " 4   AppointmentDay  110526 non-null  datetime64[ns, UTC]\n",
      " 5   Age             110526 non-null  int64              \n",
      " 6   Neighbourhood   110526 non-null  object             \n",
      " 7   Scholarship     110526 non-null  int64              \n",
      " 8   Hipertension    110526 non-null  int64              \n",
      " 9   Diabetes        110526 non-null  int64              \n",
      " 10  Alcoholism      110526 non-null  int64              \n",
      " 11  Handcap         110526 non-null  int64              \n",
      " 12  SMS_received    110526 non-null  int64              \n",
      " 13  No-show         110526 non-null  object             \n",
      "dtypes: datetime64[ns, UTC](2), int64(9), object(3)\n",
      "memory usage: 12.6+ MB\n"
     ]
    }
   ],
   "source": [
    "# check that we have the datatypes as we need\n",
    "df.info()"
   ]
  },
  {
   "cell_type": "markdown",
   "metadata": {},
   "source": [
    "<a id='eda'></a>\n",
    "## Exploratory Data Analysis\n",
    "\n",
    "in this section we will try to answer our main question why people didn't show up, what is the features that have imapct on the patients that didn't show up"
   ]
  },
  {
   "cell_type": "code",
   "execution_count": 278,
   "metadata": {},
   "outputs": [],
   "source": [
    "#filter patient that didn't shown in their appointment\n",
    "not_shown = df[df['No-show'] == 'Yes']\n",
    "\n",
    "#calc total number of Patient that didn't shown\n",
    "total_number_not_shown = not_shown['No-show'].count()\n",
    "\n",
    "#filter patient that shown in their appointment\n",
    "shown = df[df['No-show'] == 'No']\n",
    "\n",
    "#calc total number of Patient that shown\n",
    "total_number_shown = shown['No-show'].count()\n",
    "\n",
    "#Percent of Patient that shown up\n",
    "shown_percent = total_number_shown / df.shape[0] * 100\n",
    "\n",
    "#Percent of Patient that didn't shown up\n",
    "not_shown_percent = total_number_not_shown / df.shape[0] * 100"
   ]
  },
  {
   "cell_type": "code",
   "execution_count": 279,
   "metadata": {},
   "outputs": [
    {
     "data": {
      "image/png": "[encoded data removed]",
      "text/plain": [
       "<Figure size 432x288 with 1 Axes>"
      ]
     },
     "metadata": {},
     "output_type": "display_data"
    }
   ],
   "source": [
    "fig, ax = plt.subplots()\n",
    "plt.pie([shown_percent,not_shown_percent], labels=[\"showed up\", \"Didn't show up\"],autopct='%1.1f%%')\n",
    "plt.title(\"The percentage of patients Shown up vs patient didn't showup\")\n",
    "fig.set_facecolor('white');"
   ]
  },
  {
   "cell_type": "code",
   "execution_count": 280,
   "metadata": {},
   "outputs": [
    {
     "name": "stdout",
     "output_type": "stream",
     "text": [
      "total number shown : 88207\n",
      "total number not shown : 22319\n"
     ]
    }
   ],
   "source": [
    "print(f\"total number shown : {total_number_shown}\")\n",
    "print(f\"total number not shown : {total_number_not_shown}\" )"
   ]
  },
  {
   "cell_type": "markdown",
   "metadata": {},
   "source": [
    "we have 22319 of patient that didn't shown up in their appointments which reresents 20.2% of the total number of patients"
   ]
  },
  {
   "cell_type": "code",
   "execution_count": 281,
   "metadata": {},
   "outputs": [],
   "source": [
    "def draw_bar_graph(data,title,xlabel,ylabel,tick_label = None,locator = None,figsize = (10,7),rotation=0):\n",
    "   \n",
    "   '''\n",
    "   Plot bar graph\n",
    "\n",
    "            Parameters:\n",
    "                    data: data to be plotted\n",
    "                    title: title of the figure \n",
    "                    xlabel: x-axis lebel\n",
    "                    ylabel: y-axis lebel\n",
    "                    tick_label: list of x-axis tick lebels\n",
    "                    locator: tuple contains axis and nbins number of bins on the axis\n",
    "                    figsize: tuple contains the width and heigh of figure to be plotted\n",
    "                    rotation: rotate the tick labels on the x-axis\n",
    "   '''\n",
    "\n",
    "   fig, ax = plt.subplots(figsize=figsize)\n",
    "   ax.grid(True, linestyle='-')\n",
    "   ax.tick_params(axis='x', which='major', labelsize=10)\n",
    "   plt.xticks(rotation=rotation)\n",
    "\n",
    "   if locator != None:\n",
    "      axis, nbins = locator\n",
    "      plt.locator_params(axis= axis,nbins= nbins)\n",
    "\n",
    "   plt.bar(data.index,data,tick_label=tick_label,width=0.5,align='center')\n",
    "   plt.title(title)\n",
    "   plt.xlabel(xlabel,labelpad=20)\n",
    "   plt.ylabel(ylabel);"
   ]
  },
  {
   "cell_type": "code",
   "execution_count": 282,
   "metadata": {},
   "outputs": [],
   "source": [
    "def draw_stacked_bar_graph(data,y,legend_label = None, legend_Title=None):\n",
    "   \n",
    "   '''\n",
    "   Plot stacked bar graph\n",
    "\n",
    "            Parameters:\n",
    "                    data: data to be plotted\n",
    "                    y: the values on y axis \n",
    "                    legend_label: lebel of the legend\n",
    "                    legend_Title: list of legend titles\n",
    "   '''\n",
    "   fig, ax = plt.subplots() \n",
    "   \n",
    "   data.unstack().plot(kind='bar',y=y,stacked=True,ax=ax)\n",
    "   \n",
    "   ax.set_ylabel(\"Number of Patients\")\n",
    "   \n",
    "   if legend_label != None and legend_Title !=None:\n",
    "      plt.legend(legend_label,title=legend_Title);"
   ]
  },
  {
   "cell_type": "markdown",
   "metadata": {},
   "source": [
    "### Is the scholarship of the paitent have influence on attend the appointment"
   ]
  },
  {
   "cell_type": "code",
   "execution_count": 283,
   "metadata": {},
   "outputs": [],
   "source": [
    "# get the percent of patient that have scholarship and didn't show vs the percent of pateint that not have scholarship and didn't show\n",
    "result = (not_shown.groupby(['Scholarship']).count()['No-show'] / total_number_not_shown) * 100"
   ]
  },
  {
   "cell_type": "code",
   "execution_count": 284,
   "metadata": {},
   "outputs": [
    {
     "data": {
      "image/png": "[encoded data removed]",
      "text/plain": [
       "<Figure size 720x504 with 1 Axes>"
      ]
     },
     "metadata": {
      "needs_background": "light"
     },
     "output_type": "display_data"
    }
   ],
   "source": [
    "# plotting the result of grouping the patient that didn't show by scholarship\n",
    "draw_bar_graph(result,\"Patient that didn't shown (Patient with scholarship vs patient without scholarship)\",'Patient Have scholarship',\"Percent of Patient didn't shown\",[\"No\", \"Yes\"])\n"
   ]
  },
  {
   "cell_type": "markdown",
   "metadata": {},
   "source": [
    "this is result shows that over 80% of patient that didn't show up didn't receive sms so this is a key factor in our analysis"
   ]
  },
  {
   "cell_type": "code",
   "execution_count": 285,
   "metadata": {},
   "outputs": [],
   "source": [
    "#Compare shown and not shown patient grouped by the scholarship\n",
    "result = df.groupby(['No-show','Scholarship']).count()"
   ]
  },
  {
   "cell_type": "code",
   "execution_count": 286,
   "metadata": {},
   "outputs": [
    {
     "data": {
      "image/png": "[encoded data removed]",
      "text/plain": [
       "<Figure size 432x288 with 1 Axes>"
      ]
     },
     "metadata": {
      "needs_background": "light"
     },
     "output_type": "display_data"
    }
   ],
   "source": [
    "draw_stacked_bar_graph(result,'AppointmentID',['No', 'Yes'],'Has Scholarship')"
   ]
  },
  {
   "cell_type": "markdown",
   "metadata": {},
   "source": [
    "we noticed that not shown patient is about 20,000 most of them does not have scholarship but overall most of patient does not have scholarship"
   ]
  },
  {
   "cell_type": "markdown",
   "metadata": {},
   "source": [
    "### Is the age has an impact on not showing"
   ]
  },
  {
   "cell_type": "code",
   "execution_count": 287,
   "metadata": {
    "collapsed": true
   },
   "outputs": [],
   "source": [
    "#Group not shown up patient by age\n",
    "result = (not_shown.groupby(['Age']).count()['No-show'] / total_number_not_shown) * 100"
   ]
  },
  {
   "cell_type": "code",
   "execution_count": 288,
   "metadata": {},
   "outputs": [
    {
     "data": {
      "image/png": "[encoded data removed]",
      "text/plain": [
       "<Figure size 1080x504 with 1 Axes>"
      ]
     },
     "metadata": {
      "needs_background": "light"
     },
     "output_type": "display_data"
    }
   ],
   "source": [
    "draw_bar_graph(result,\"Patient that didn't show up by their age\",'Patient Age',\"Percent of Patient didn't shown\",locator=('x',30),figsize=(15,7))"
   ]
  },
  {
   "cell_type": "markdown",
   "metadata": {},
   "source": [
    "we notice that most of ages that not show up is patient less than a year, but the pecent is just over 2.5 % of the total patient that didn't showup, so the age don't have a great effect of not showing up"
   ]
  },
  {
   "cell_type": "markdown",
   "metadata": {},
   "source": [
    "### Is the Neighbourhood affect on showingup"
   ]
  },
  {
   "cell_type": "code",
   "execution_count": 289,
   "metadata": {},
   "outputs": [],
   "source": [
    "result = (not_shown.groupby(['Neighbourhood']).count()['No-show'] / total_number_not_shown) * 100"
   ]
  },
  {
   "cell_type": "code",
   "execution_count": 290,
   "metadata": {},
   "outputs": [
    {
     "data": {
      "image/png": "[encoded data removed]",
      "text/plain": [
       "<Figure size 1080x504 with 1 Axes>"
      ]
     },
     "metadata": {
      "needs_background": "light"
     },
     "output_type": "display_data"
    }
   ],
   "source": [
    "draw_bar_graph(result,\"Appointment Neighbourhood\",'Neighbourhood',\"Percent of Patient didn't shown\",figsize=(15,7),rotation=90)"
   ]
  },
  {
   "cell_type": "markdown",
   "metadata": {},
   "source": [
    "we find out that the top 4 places that patient didn't show up in is : JARDIM CAMBURI,MARIA ORTIZ,ITARARE and RESISTENCIA,  but here we talk about 6% heightes percent of the total patient that did not show up "
   ]
  },
  {
   "cell_type": "markdown",
   "metadata": {},
   "source": [
    "### is receiving SMS affect on showingup"
   ]
  },
  {
   "cell_type": "code",
   "execution_count": 291,
   "metadata": {},
   "outputs": [],
   "source": [
    "result = (not_shown.groupby(['SMS_received']).count()['No-show'] / total_number_not_shown) * 100"
   ]
  },
  {
   "cell_type": "code",
   "execution_count": 292,
   "metadata": {},
   "outputs": [
    {
     "data": {
      "image/png": "[encoded data removed]",
      "text/plain": [
       "<Figure size 720x504 with 1 Axes>"
      ]
     },
     "metadata": {
      "needs_background": "light"
     },
     "output_type": "display_data"
    }
   ],
   "source": [
    "draw_bar_graph(result,\"SMS sended to patients\",'Patient receive SMS',\"Percent of Patient didn't shown\",tick_label=[\"No\", \"Yes\"])"
   ]
  },
  {
   "cell_type": "markdown",
   "metadata": {},
   "source": [
    "we notice that over 50% of patient that didn't show up didn't receive sms while about 40% receive sms"
   ]
  },
  {
   "cell_type": "code",
   "execution_count": 293,
   "metadata": {},
   "outputs": [],
   "source": [
    "#Compare shown and not shown patient grouped by the SMS_received\n",
    "result = df.groupby(['No-show','SMS_received']).count()"
   ]
  },
  {
   "cell_type": "code",
   "execution_count": 294,
   "metadata": {},
   "outputs": [
    {
     "data": {
      "image/png": "[encoded data removed]",
      "text/plain": [
       "<Figure size 432x288 with 1 Axes>"
      ]
     },
     "metadata": {
      "needs_background": "light"
     },
     "output_type": "display_data"
    }
   ],
   "source": [
    "draw_stacked_bar_graph(result,'AppointmentID',['No', 'Yes'],'SMS Received')"
   ]
  },
  {
   "cell_type": "markdown",
   "metadata": {},
   "source": [
    "graphs show that the number of patient that didn't show up and receive sms is near to the number of patient that didn't receive sms and not show up which means receving sms don't have big influence on not showing up"
   ]
  },
  {
   "cell_type": "markdown",
   "metadata": {},
   "source": [
    "### is Males showingup more than Females"
   ]
  },
  {
   "cell_type": "code",
   "execution_count": 295,
   "metadata": {},
   "outputs": [],
   "source": [
    "result = (not_shown.groupby(['Gender']).count()['No-show'] / total_number_not_shown) * 100"
   ]
  },
  {
   "cell_type": "code",
   "execution_count": 296,
   "metadata": {},
   "outputs": [
    {
     "data": {
      "image/png": "[encoded data removed]",
      "text/plain": [
       "<Figure size 720x504 with 1 Axes>"
      ]
     },
     "metadata": {
      "needs_background": "light"
     },
     "output_type": "display_data"
    }
   ],
   "source": [
    "draw_bar_graph(result,\"Not Shown Patient Gender\",'Patient Gender',\"Percent of Patient didn't shown\")"
   ]
  },
  {
   "cell_type": "code",
   "execution_count": 297,
   "metadata": {},
   "outputs": [],
   "source": [
    "#Compare shown and not shown patient grouped by the Gender\n",
    "result = df.groupby(['No-show','Gender']).count()"
   ]
  },
  {
   "cell_type": "code",
   "execution_count": 298,
   "metadata": {},
   "outputs": [
    {
     "data": {
      "image/png": "[encoded data removed]",
      "text/plain": [
       "<Figure size 432x288 with 1 Axes>"
      ]
     },
     "metadata": {
      "needs_background": "light"
     },
     "output_type": "display_data"
    }
   ],
   "source": [
    "draw_stacked_bar_graph(result,'AppointmentID')"
   ]
  },
  {
   "cell_type": "markdown",
   "metadata": {},
   "source": [
    "graphs show that most of patient that didn't show up from females over 60%"
   ]
  },
  {
   "cell_type": "markdown",
   "metadata": {},
   "source": [
    "### Grouping the not showingup by the Gender,scholarship and sms received and thier effect"
   ]
  },
  {
   "cell_type": "markdown",
   "metadata": {},
   "source": [
    "as we noticed that gender,scholarship and sms is the three factors that have more impact on our analysis, so we will try to group these factors together and study their impact"
   ]
  },
  {
   "cell_type": "code",
   "execution_count": 299,
   "metadata": {},
   "outputs": [],
   "source": [
    "result = (not_shown.groupby(['Gender','Scholarship','SMS_received']).count()['No-show'] / total_number_not_shown) * 100"
   ]
  },
  {
   "cell_type": "code",
   "execution_count": 300,
   "metadata": {},
   "outputs": [
    {
     "data": {
      "image/png": "[encoded data removed]",
      "text/plain": [
       "<Figure size 432x288 with 1 Axes>"
      ]
     },
     "metadata": {
      "needs_background": "light"
     },
     "output_type": "display_data"
    }
   ],
   "source": [
    "fig, ax = plt.subplots() \n",
    "result.plot(kind='bar',ax=ax)\n",
    "ax.set_ylabel('Number of Patients');"
   ]
  },
  {
   "cell_type": "code",
   "execution_count": 301,
   "metadata": {},
   "outputs": [],
   "source": [
    "#compare between shown and not shown patient grouped by Gender,Scholarship and SMS_received\n",
    "result = ((df.groupby(['Gender','Scholarship','SMS_received','No-show']).count())/df.count())"
   ]
  },
  {
   "cell_type": "code",
   "execution_count": 302,
   "metadata": {},
   "outputs": [
    {
     "data": {
      "image/png": "[encoded data removed]",
      "text/plain": [
       "<Figure size 432x288 with 1 Axes>"
      ]
     },
     "metadata": {
      "needs_background": "light"
     },
     "output_type": "display_data"
    }
   ],
   "source": [
    "draw_stacked_bar_graph(result,'AppointmentID')"
   ]
  },
  {
   "cell_type": "markdown",
   "metadata": {},
   "source": [
    "the graphs show that most of the patient that didn't show up from females, didn't have scholarship and didn't receive sms about 32% of the pateint that didn't show up, next females that didn't have scholarship and receive sms about 26%, then males wihout scholarship and didn't receive sms about 18% and finally males with no scholarship and receive sms about 13%"
   ]
  },
  {
   "cell_type": "markdown",
   "metadata": {},
   "source": [
    "<a id='conclusions'></a>\n",
    "## Conclusions\n",
    "\n",
    "From the previous exploration and the result that we have got we can notice that:\n",
    "<ul>\n",
    "<li>\n",
    "the key factors that impact on the show up of the patient in the features that we have analized is the scholarship and gender as most of the patient that didn't show up from females that don't have scholarship then males that don't have scholarship\n",
    "</li>\n",
    "<li>\n",
    "we can go farther by analysing the rest of features such as the type of disease, appointment day and shecdule day\n",
    "</li>\n",
    "\n",
    "<li>\n",
    "we can extract the time of the sechedule day to find if there is a relation between sechduled time and not showing up \n",
    "</li>\n",
    "\n",
    "<li>\n",
    "one of the feature that we analyse is the place of appointment if we have the distance from the appointemnt place to the patient residence we may find a relation between the distance and not showing up\n",
    "</li>\n",
    "\n",
    "<li>\n",
    "total not shown patient is 22319, which is a small number to analyize it's better to get more data to have better understanding of the data and behaviour of patients\n",
    "</li>\n",
    "\n",
    "<li>Grouping the data by Neighbourhood have some comlixty because the number of places, we can mimimize the number to be plotted to get better view by selecting top 10 places that have most impact on the result</li>\n",
    "\n",
    "<li>If we have Neighbourhood Latitude,Longtitude or regions we can group those places by region</li>\n",
    "\n",
    "<li>another issue is with age because we have wide range of ages, we can group patient ages by ctagrizing ages ever 5 yeas bins (the age fill into these categories 5-10-15-20 and so on)</li>\n",
    "\n",
    "<li>in the data cleaning process we just drop 1 record wich is very tiny,it's neglictable and has no affect on the exploration</li>\n",
    "\n",
    "<li>the dataset that we have is not large engough to get bertter understanding of the behaviour espicially becasue the small number of not shown patient which about 20% of the dataset(22319), I think a dataset of 1M record with larger percent of not shown patient will produce better result in anlysis </li>\n",
    "\n",
    "<li>\n",
    "The dataset have columns of patient diseases, we don't know if these diseases is just the medical centers treat or this the diseases related to patient in the sample, my be the disease has imapct of not shown, and may be there is types of diseases their patient didn't show more that others\n",
    "</li>\n",
    "\n",
    "<li>\n",
    "Another info we don't know about the appointment, if this appointment or follow up appointment, may be patient shown in the appointment but didn't shown up in the followup appointment, or may be this checkup appointment or lab appointment, all these information is missing and it may be useful \n",
    "</li>\n",
    "</ul>"
   ]
  }
 ],
 "metadata": {
  "kernelspec": {
   "display_name": "Python 3.8.2 64-bit",
   "language": "python",
   "name": "python3"
  },
  "language_info": {
   "codemirror_mode": {
    "name": "ipython",
    "version": 3
   },
   "file_extension": ".py",
   "mimetype": "text/x-python",
   "name": "python",
   "nbconvert_exporter": "python",
   "pygments_lexer": "ipython3",
   "version": "3.8.2"
  },
  "vscode": {
   "interpreter": {
    "hash": "9650cb4e16cdd4a8e8e2d128bf38d875813998db22a3c986335f89e0cb4d7bb2"
   }
  }
 },
 "nbformat": 4,
 "nbformat_minor": 2
}
